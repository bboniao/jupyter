{
 "cells": [
  {
   "cell_type": "code",
   "execution_count": 3,
   "metadata": {},
   "outputs": [
    {
     "name": "stderr",
     "output_type": "stream",
     "text": [
      "/home/dl/anaconda3/lib/python3.6/site-packages/h5py/__init__.py:34: FutureWarning: Conversion of the second argument of issubdtype from `float` to `np.floating` is deprecated. In future, it will be treated as `np.float64 == np.dtype(float).type`.\n",
      "  from ._conv import register_converters as _register_converters\n"
     ]
    }
   ],
   "source": [
    "import timeit\n",
    "import tensorflow as tf"
   ]
  },
  {
   "cell_type": "code",
   "execution_count": 4,
   "metadata": {},
   "outputs": [],
   "source": [
    "config = tf.ConfigProto()"
   ]
  },
  {
   "cell_type": "code",
   "execution_count": 5,
   "metadata": {
    "collapsed": true
   },
   "outputs": [],
   "source": [
    "config.gpu_options.allow_growth=True"
   ]
  },
  {
   "cell_type": "code",
   "execution_count": 6,
   "metadata": {},
   "outputs": [
    {
     "name": "stdout",
     "output_type": "stream",
     "text": [
      "CPU (s):\n",
      "261.7652801631484\n",
      "GPU (s):\n",
      "39.56017829407938\n",
      "GPU speedup over CPU: 6x\n"
     ]
    }
   ],
   "source": [
    "with tf.device('/cpu:0'):\n",
    "    random_image_cpu = tf.random_normal((100,100,100,3))\n",
    "    net_cpu = tf.layers.conv2d(random_image_cpu, 32, 7)\n",
    "    net_cpu = tf.reduce_sum(net_cpu)\n",
    "with tf.device(\"/gpu:0\"):\n",
    "    random_image_gpu = tf.random_normal((100,100,100,3))\n",
    "    net_gpu = tf.layers.conv2d(random_image_cpu, 32, 7)\n",
    "    net_gpu = tf.reduce_sum(net_gpu)\n",
    "sess = tf.Session(config=config)\n",
    "try:\n",
    "    sess.run(tf.global_variables_initializer())\n",
    "except tf.errors.InvalidArgumentError:\n",
    "    print(\"init error\")\n",
    "    raise\n",
    "def cpu():\n",
    "    sess.run(net_cpu)\n",
    "    \n",
    "def gpu():\n",
    "    sess.run(net_gpu)\n",
    "    \n",
    "print('CPU (s):')\n",
    "cpu_time = timeit.timeit('cpu()', number=1000, setup=\"from __main__ import cpu\")\n",
    "print(cpu_time)\n",
    "print('GPU (s):')\n",
    "gpu_time = timeit.timeit('gpu()', number=1000, setup=\"from __main__ import gpu\")\n",
    "print(gpu_time)\n",
    "print('GPU speedup over CPU: {}x'.format(int(cpu_time/gpu_time)))\n",
    "\n",
    "sess.close()"
   ]
  },
  {
   "cell_type": "code",
   "execution_count": null,
   "metadata": {
    "collapsed": true
   },
   "outputs": [],
   "source": []
  }
 ],
 "metadata": {
  "kernelspec": {
   "display_name": "Python 3",
   "language": "python",
   "name": "python3"
  },
  "language_info": {
   "codemirror_mode": {
    "name": "ipython",
    "version": 3
   },
   "file_extension": ".py",
   "mimetype": "text/x-python",
   "name": "python",
   "nbconvert_exporter": "python",
   "pygments_lexer": "ipython3",
   "version": "3.6.3"
  }
 },
 "nbformat": 4,
 "nbformat_minor": 2
}
